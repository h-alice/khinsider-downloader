{
 "cells": [
  {
   "cell_type": "markdown",
   "metadata": {},
   "source": [
    "# Download Script Usage Guide\n",
    "\n",
    "This notebook shows the basic APIs of `khinsider_downloader`."
   ]
  },
  {
   "cell_type": "code",
   "execution_count": 1,
   "metadata": {},
   "outputs": [],
   "source": [
    "import requests\n",
    "import asyncio\n",
    "from khinsider_downloader import download_single_song, song_download_page_handler, album_page_handler"
   ]
  },
  {
   "cell_type": "code",
   "execution_count": 2,
   "metadata": {},
   "outputs": [],
   "source": [
    "test_album_url = \"https://downloads.khinsider.com/game-soundtracks/album/silent-hill-2-original-soundtrack\"\n",
    "test_song_page_url = \"https://downloads.khinsider.com/game-soundtracks/album/silent-hill-2-original-soundtrack/02.%2520White%2520Noiz.mp3\"\n",
    "test_song_url = \"https://dl.vgmdownloads.com/soundtracks/silent-hill-2-original-soundtrack/ktmakmbdcx/02.%20White%20Noiz.mp3\""
   ]
  },
  {
   "cell_type": "code",
   "execution_count": 3,
   "metadata": {},
   "outputs": [],
   "source": [
    "page = requests.get(test_album_url).text\n",
    "_ = await album_page_handler(page)"
   ]
  },
  {
   "cell_type": "code",
   "execution_count": 4,
   "metadata": {},
   "outputs": [],
   "source": [
    "page = requests.get(test_song_page_url).text\n",
    "_ = song_download_page_handler(page)"
   ]
  },
  {
   "cell_type": "code",
   "execution_count": 5,
   "metadata": {},
   "outputs": [
    {
     "data": {
      "text/plain": [
       "'02. White Noiz.mp3'"
      ]
     },
     "execution_count": 5,
     "metadata": {},
     "output_type": "execute_result"
    }
   ],
   "source": [
    "await download_single_song(test_song_url, asyncio.Semaphore(5))"
   ]
  },
  {
   "cell_type": "code",
   "execution_count": null,
   "metadata": {},
   "outputs": [],
   "source": []
  }
 ],
 "metadata": {
  "kernelspec": {
   "display_name": "misc",
   "language": "python",
   "name": "python3"
  },
  "language_info": {
   "codemirror_mode": {
    "name": "ipython",
    "version": 3
   },
   "file_extension": ".py",
   "mimetype": "text/x-python",
   "name": "python",
   "nbconvert_exporter": "python",
   "pygments_lexer": "ipython3",
   "version": "3.11.5"
  }
 },
 "nbformat": 4,
 "nbformat_minor": 2
}
