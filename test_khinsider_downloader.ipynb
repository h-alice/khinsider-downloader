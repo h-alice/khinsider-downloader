{
 "cells": [
  {
   "cell_type": "markdown",
   "metadata": {},
   "source": [
    "# Download Script Usage Guide\n",
    "\n",
    "This notebook shows the basic APIs of `khinsider_downloader`."
   ]
  },
  {
   "cell_type": "code",
   "execution_count": 1,
   "metadata": {},
   "outputs": [],
   "source": [
    "import requests\n",
    "import asyncio\n",
    "from khinsider_downloader import download_single_song, song_download_page_handler, album_page_handler"
   ]
  },
  {
   "cell_type": "code",
   "execution_count": 2,
   "metadata": {},
   "outputs": [],
   "source": [
    "test_album_url = \"https://downloads.khinsider.com/game-soundtracks/album/silent-hill-2-original-soundtrack\"\n",
    "test_song_page_url = \"https://downloads.khinsider.com/game-soundtracks/album/silent-hill-2-original-soundtrack/02.%2520White%2520Noiz.mp3\"\n",
    "test_song_url = \"https://dl.vgmdownloads.com/soundtracks/silent-hill-2-original-soundtrack/ktmakmbdcx/02.%20White%20Noiz.mp3\""
   ]
  },
  {
   "cell_type": "code",
   "execution_count": 3,
   "metadata": {},
   "outputs": [
    {
     "data": {
      "text/plain": [
       "{'album_title': 'SILENT HILL 2 ORIGINAL SOUNDTRACKS',\n",
       " 'songs': [{'mp3': 'https://dl.vgmdownloads.com/soundtracks/silent-hill-2-original-soundtrack/bvirqfisik/01.%20Theme%20of%20Laura.mp3',\n",
       "   'flac': 'https://dl.vgmdownloads.com/soundtracks/silent-hill-2-original-soundtrack/bvirqfisik/01.%20Theme%20of%20Laura.flac'},\n",
       "  {'mp3': 'https://dl.vgmdownloads.com/soundtracks/silent-hill-2-original-soundtrack/ktmakmbdcx/02.%20White%20Noiz.mp3',\n",
       "   'flac': 'https://dl.vgmdownloads.com/soundtracks/silent-hill-2-original-soundtrack/ktmakmbdcx/02.%20White%20Noiz.flac'},\n",
       "  {'mp3': 'https://dl.vgmdownloads.com/soundtracks/silent-hill-2-original-soundtrack/vjdoaofulg/03.%20Forest.mp3',\n",
       "   'flac': 'https://dl.vgmdownloads.com/soundtracks/silent-hill-2-original-soundtrack/vjdoaofulg/03.%20Forest.flac'},\n",
       "  {'mp3': 'https://dl.vgmdownloads.com/soundtracks/silent-hill-2-original-soundtrack/igxirnznqs/04.%20A%20World%20Of%20Madness.mp3',\n",
       "   'flac': 'https://dl.vgmdownloads.com/soundtracks/silent-hill-2-original-soundtrack/igxirnznqs/04.%20A%20World%20Of%20Madness.flac'},\n",
       "  {'mp3': 'https://dl.vgmdownloads.com/soundtracks/silent-hill-2-original-soundtrack/vrdqoupfcd/05.%20Ordinary%20Vanity.mp3',\n",
       "   'flac': 'https://dl.vgmdownloads.com/soundtracks/silent-hill-2-original-soundtrack/vrdqoupfcd/05.%20Ordinary%20Vanity.flac'},\n",
       "  {'mp3': 'https://dl.vgmdownloads.com/soundtracks/silent-hill-2-original-soundtrack/yyntudsjci/06.%20Promise%20%28Reprise%29.mp3',\n",
       "   'flac': 'https://dl.vgmdownloads.com/soundtracks/silent-hill-2-original-soundtrack/yyntudsjci/06.%20Promise%20%28Reprise%29.flac'},\n",
       "  {'mp3': 'https://dl.vgmdownloads.com/soundtracks/silent-hill-2-original-soundtrack/wjqheszirh/07.%20Ashes%20And%20Ghost.mp3',\n",
       "   'flac': 'https://dl.vgmdownloads.com/soundtracks/silent-hill-2-original-soundtrack/wjqheszirh/07.%20Ashes%20And%20Ghost.flac'},\n",
       "  {'mp3': 'https://dl.vgmdownloads.com/soundtracks/silent-hill-2-original-soundtrack/ijbowiinov/08.%20Null%20Moon.mp3',\n",
       "   'flac': 'https://dl.vgmdownloads.com/soundtracks/silent-hill-2-original-soundtrack/ijbowiinov/08.%20Null%20Moon.flac'},\n",
       "  {'mp3': 'https://dl.vgmdownloads.com/soundtracks/silent-hill-2-original-soundtrack/pnwmtbwltl/09.%20Heaven%27s%20Night.mp3',\n",
       "   'flac': 'https://dl.vgmdownloads.com/soundtracks/silent-hill-2-original-soundtrack/pnwmtbwltl/09.%20Heaven%27s%20Night.flac'},\n",
       "  {'mp3': 'https://dl.vgmdownloads.com/soundtracks/silent-hill-2-original-soundtrack/ysejfugora/10.%20Alone%20In%20The%20Town.mp3',\n",
       "   'flac': 'https://dl.vgmdownloads.com/soundtracks/silent-hill-2-original-soundtrack/ysejfugora/10.%20Alone%20In%20The%20Town.flac'},\n",
       "  {'mp3': 'https://dl.vgmdownloads.com/soundtracks/silent-hill-2-original-soundtrack/rblvmicreh/11.%20The%20Darkness%20That%20Lurks%20In%20Our%20Mind.mp3',\n",
       "   'flac': 'https://dl.vgmdownloads.com/soundtracks/silent-hill-2-original-soundtrack/rblvmicreh/11.%20The%20Darkness%20That%20Lurks%20In%20Our%20Mind.flac'},\n",
       "  {'mp3': 'https://dl.vgmdownloads.com/soundtracks/silent-hill-2-original-soundtrack/omcxriuoge/12.%20Angel%27s%20Thanatos.mp3',\n",
       "   'flac': 'https://dl.vgmdownloads.com/soundtracks/silent-hill-2-original-soundtrack/omcxriuoge/12.%20Angel%27s%20Thanatos.flac'},\n",
       "  {'mp3': 'https://dl.vgmdownloads.com/soundtracks/silent-hill-2-original-soundtrack/vapszgaolb/13.%20The%20Day%20Of%20Night.mp3',\n",
       "   'flac': 'https://dl.vgmdownloads.com/soundtracks/silent-hill-2-original-soundtrack/vapszgaolb/13.%20The%20Day%20Of%20Night.flac'},\n",
       "  {'mp3': 'https://dl.vgmdownloads.com/soundtracks/silent-hill-2-original-soundtrack/ukxqfeaxgv/14.%20Block%20Mind.mp3',\n",
       "   'flac': 'https://dl.vgmdownloads.com/soundtracks/silent-hill-2-original-soundtrack/ukxqfeaxgv/14.%20Block%20Mind.flac'},\n",
       "  {'mp3': 'https://dl.vgmdownloads.com/soundtracks/silent-hill-2-original-soundtrack/grgeyfhzqz/15.%20Magdalene.mp3',\n",
       "   'flac': 'https://dl.vgmdownloads.com/soundtracks/silent-hill-2-original-soundtrack/grgeyfhzqz/15.%20Magdalene.flac'},\n",
       "  {'mp3': 'https://dl.vgmdownloads.com/soundtracks/silent-hill-2-original-soundtrack/rqhodmmzjt/16.%20Fermata%20in%20Mistic%20Air.mp3',\n",
       "   'flac': 'https://dl.vgmdownloads.com/soundtracks/silent-hill-2-original-soundtrack/rqhodmmzjt/16.%20Fermata%20in%20Mistic%20Air.flac'},\n",
       "  {'mp3': 'https://dl.vgmdownloads.com/soundtracks/silent-hill-2-original-soundtrack/dqpahbwnlw/17.%20Prisonic%20Fairytale.mp3',\n",
       "   'flac': 'https://dl.vgmdownloads.com/soundtracks/silent-hill-2-original-soundtrack/dqpahbwnlw/17.%20Prisonic%20Fairytale.flac'},\n",
       "  {'mp3': 'https://dl.vgmdownloads.com/soundtracks/silent-hill-2-original-soundtrack/dkgoalucdp/18.%20Love%20Psalm.mp3',\n",
       "   'flac': 'https://dl.vgmdownloads.com/soundtracks/silent-hill-2-original-soundtrack/dkgoalucdp/18.%20Love%20Psalm.flac'},\n",
       "  {'mp3': 'https://dl.vgmdownloads.com/soundtracks/silent-hill-2-original-soundtrack/ujtpvlluqo/19.%20Silent%20Heaven.mp3',\n",
       "   'flac': 'https://dl.vgmdownloads.com/soundtracks/silent-hill-2-original-soundtrack/ujtpvlluqo/19.%20Silent%20Heaven.flac'},\n",
       "  {'mp3': 'https://dl.vgmdownloads.com/soundtracks/silent-hill-2-original-soundtrack/ibgpalpnqz/20.%20Noone%20Love%20You.mp3',\n",
       "   'flac': 'https://dl.vgmdownloads.com/soundtracks/silent-hill-2-original-soundtrack/ibgpalpnqz/20.%20Noone%20Love%20You.flac'},\n",
       "  {'mp3': 'https://dl.vgmdownloads.com/soundtracks/silent-hill-2-original-soundtrack/fayrnqzgnq/21.%20The%20Reverse%20Will.mp3',\n",
       "   'flac': 'https://dl.vgmdownloads.com/soundtracks/silent-hill-2-original-soundtrack/fayrnqzgnq/21.%20The%20Reverse%20Will.flac'},\n",
       "  {'mp3': 'https://dl.vgmdownloads.com/soundtracks/silent-hill-2-original-soundtrack/uvwneuknxu/22.%20Laura%20Plays%20The%20Piano.mp3',\n",
       "   'flac': 'https://dl.vgmdownloads.com/soundtracks/silent-hill-2-original-soundtrack/uvwneuknxu/22.%20Laura%20Plays%20The%20Piano.flac'},\n",
       "  {'mp3': 'https://dl.vgmdownloads.com/soundtracks/silent-hill-2-original-soundtrack/hjsxksflho/23.%20Terror%20In%20The%20Depths%20Of%20The%20Fog.mp3',\n",
       "   'flac': 'https://dl.vgmdownloads.com/soundtracks/silent-hill-2-original-soundtrack/hjsxksflho/23.%20Terror%20In%20The%20Depths%20Of%20The%20Fog.flac'},\n",
       "  {'mp3': 'https://dl.vgmdownloads.com/soundtracks/silent-hill-2-original-soundtrack/eosoevayyv/24.%20True.mp3',\n",
       "   'flac': 'https://dl.vgmdownloads.com/soundtracks/silent-hill-2-original-soundtrack/eosoevayyv/24.%20True.flac'},\n",
       "  {'mp3': 'https://dl.vgmdownloads.com/soundtracks/silent-hill-2-original-soundtrack/avgagvvsyf/25.%20Betrayal.mp3',\n",
       "   'flac': 'https://dl.vgmdownloads.com/soundtracks/silent-hill-2-original-soundtrack/avgagvvsyf/25.%20Betrayal.flac'},\n",
       "  {'mp3': 'https://dl.vgmdownloads.com/soundtracks/silent-hill-2-original-soundtrack/aecycbfrce/26.%20Black%20Fairy.mp3',\n",
       "   'flac': 'https://dl.vgmdownloads.com/soundtracks/silent-hill-2-original-soundtrack/aecycbfrce/26.%20Black%20Fairy.flac'},\n",
       "  {'mp3': 'https://dl.vgmdownloads.com/soundtracks/silent-hill-2-original-soundtrack/kzebxkxrjp/27.%20Theme%20Of%20Laura%20%28Reprise%29.mp3',\n",
       "   'flac': 'https://dl.vgmdownloads.com/soundtracks/silent-hill-2-original-soundtrack/kzebxkxrjp/27.%20Theme%20Of%20Laura%20%28Reprise%29.flac'},\n",
       "  {'mp3': 'https://dl.vgmdownloads.com/soundtracks/silent-hill-2-original-soundtrack/wxnnlgwhtn/28.%20Overdose%20Delusion.mp3',\n",
       "   'flac': 'https://dl.vgmdownloads.com/soundtracks/silent-hill-2-original-soundtrack/wxnnlgwhtn/28.%20Overdose%20Delusion.flac'},\n",
       "  {'mp3': 'https://dl.vgmdownloads.com/soundtracks/silent-hill-2-original-soundtrack/rvwupnmbow/29.%20Pianissimo%20Epilogue.mp3',\n",
       "   'flac': 'https://dl.vgmdownloads.com/soundtracks/silent-hill-2-original-soundtrack/rvwupnmbow/29.%20Pianissimo%20Epilogue.flac'},\n",
       "  {'mp3': 'https://dl.vgmdownloads.com/soundtracks/silent-hill-2-original-soundtrack/waihqaccat/30.%20Promise.mp3',\n",
       "   'flac': 'https://dl.vgmdownloads.com/soundtracks/silent-hill-2-original-soundtrack/waihqaccat/30.%20Promise.flac'}]}"
      ]
     },
     "execution_count": 3,
     "metadata": {},
     "output_type": "execute_result"
    }
   ],
   "source": [
    "page = requests.get(test_album_url).text\n",
    "await album_page_handler(page)"
   ]
  },
  {
   "cell_type": "code",
   "execution_count": 4,
   "metadata": {},
   "outputs": [
    {
     "data": {
      "text/plain": [
       "{'mp3': 'https://dl.vgmdownloads.com/soundtracks/silent-hill-2-original-soundtrack/ktmakmbdcx/02.%20White%20Noiz.mp3',\n",
       " 'flac': 'https://dl.vgmdownloads.com/soundtracks/silent-hill-2-original-soundtrack/ktmakmbdcx/02.%20White%20Noiz.flac'}"
      ]
     },
     "execution_count": 4,
     "metadata": {},
     "output_type": "execute_result"
    }
   ],
   "source": [
    "page = requests.get(test_song_page_url).text\n",
    "song_download_page_handler(page)"
   ]
  },
  {
   "cell_type": "code",
   "execution_count": 5,
   "metadata": {},
   "outputs": [
    {
     "data": {
      "text/plain": [
       "'02. White Noiz.mp3'"
      ]
     },
     "execution_count": 5,
     "metadata": {},
     "output_type": "execute_result"
    }
   ],
   "source": [
    "await download_single_song(test_song_url, asyncio.Semaphore(5))"
   ]
  },
  {
   "cell_type": "code",
   "execution_count": null,
   "metadata": {},
   "outputs": [],
   "source": []
  }
 ],
 "metadata": {
  "kernelspec": {
   "display_name": "misc",
   "language": "python",
   "name": "python3"
  },
  "language_info": {
   "codemirror_mode": {
    "name": "ipython",
    "version": 3
   },
   "file_extension": ".py",
   "mimetype": "text/x-python",
   "name": "python",
   "nbconvert_exporter": "python",
   "pygments_lexer": "ipython3",
   "version": "3.11.5"
  }
 },
 "nbformat": 4,
 "nbformat_minor": 2
}
